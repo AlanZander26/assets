{
 "cells": [
  {
   "cell_type": "markdown",
   "id": "fa8365c1-c245-4be5-9f37-73d619d4b6c8",
   "metadata": {},
   "source": [
    "# Example for Financial Instruments"
   ]
  },
  {
   "cell_type": "code",
   "execution_count": 1,
   "id": "1c4061cf-eaaf-4543-a565-96781d7b7fc8",
   "metadata": {},
   "outputs": [],
   "source": [
    "%load_ext autoreload\n",
    "%autoreload 2\n",
    "\n",
    "import sys\n",
    "sys.path.append('../..') \n",
    "\n",
    "import assets \n",
    "import numpy as np\n",
    "from datetime import datetime, timedelta"
   ]
  },
  {
   "cell_type": "markdown",
   "id": "7d48a106-0f06-4cc5-9070-cde16fbb78e3",
   "metadata": {},
   "source": [
    "### We can create financial instruments like stocks, currencies, futures and options"
   ]
  },
  {
   "cell_type": "code",
   "execution_count": 2,
   "id": "3e828423-40cf-47ab-8869-35ce190a87be",
   "metadata": {},
   "outputs": [
    {
     "name": "stdout",
     "output_type": "stream",
     "text": [
      "Stock's ticker: SPY and stock's price 600\n"
     ]
    }
   ],
   "source": [
    "stock = assets.Stock(ticker='SPY', price=600)\n",
    "print(f\"Stock's ticker: {stock.name} and stock's price {stock.price}\")"
   ]
  },
  {
   "cell_type": "markdown",
   "id": "a2b0da56-56c5-4fa9-9c81-45ad4df4902e",
   "metadata": {},
   "source": [
    "### Note that you cannot create more than one object of the same class with the same name. The idea is that these classes represent the asset class of the financial instruments, not a particular position."
   ]
  },
  {
   "cell_type": "code",
   "execution_count": 3,
   "id": "a4a4cc58-0b7b-467a-8ba5-37e6e5293d43",
   "metadata": {},
   "outputs": [
    {
     "data": {
      "text/plain": [
       "True"
      ]
     },
     "execution_count": 3,
     "metadata": {},
     "output_type": "execute_result"
    }
   ],
   "source": [
    "stock_duplicate = assets.Stock(ticker=stock.name)\n",
    "stock_duplicate is stock"
   ]
  },
  {
   "cell_type": "markdown",
   "id": "41cc67d8-e148-443e-9fb2-30bd916cafe3",
   "metadata": {},
   "source": [
    "### However the price is updated to the last object declaration. Here, since no price was given, it defaults to `None`:"
   ]
  },
  {
   "cell_type": "code",
   "execution_count": 4,
   "id": "1577d907-7457-40fc-b156-5063e0eccdc4",
   "metadata": {},
   "outputs": [
    {
     "data": {
      "text/plain": [
       "True"
      ]
     },
     "execution_count": 4,
     "metadata": {},
     "output_type": "execute_result"
    }
   ],
   "source": [
    "stock.price is None"
   ]
  },
  {
   "cell_type": "markdown",
   "id": "b0ef0543-eb49-4627-af6c-af81b1a4afcc",
   "metadata": {},
   "source": [
    "### Another way to change the price of an Asset is via the method `Asset.set_price(price)`. On the other hand, setting `Asset.price = price` would yield an `AttributeError`. Trying to change the name `Asset.name` would also yield the same error, just that `Asset.name` is immutable, i.e. there is no method to change it, since it would change the identity of the asset."
   ]
  },
  {
   "cell_type": "code",
   "execution_count": 5,
   "id": "c66e268c-5931-455c-8b48-3c5c6da15895",
   "metadata": {},
   "outputs": [
    {
     "data": {
      "text/plain": [
       "605"
      ]
     },
     "execution_count": 5,
     "metadata": {},
     "output_type": "execute_result"
    }
   ],
   "source": [
    "stock.set_price(605)\n",
    "stock.price"
   ]
  },
  {
   "cell_type": "markdown",
   "id": "c559cea2-9565-42df-96e5-201913c9f90e",
   "metadata": {},
   "source": [
    "### Now we define a call option on our stock. For that we will use the expiration in exactly one year of today (or whatever day on which you are executing the cell)"
   ]
  },
  {
   "cell_type": "code",
   "execution_count": 6,
   "id": "b5224d96-18d1-495f-8321-19110c31fe4c",
   "metadata": {},
   "outputs": [],
   "source": [
    "one_year_later = datetime.now() + timedelta(days=365)\n",
    "expiration_str = one_year_later.strftime(\"%y%m%d\")\n",
    "\n",
    "option = assets.Option(underlying=stock, strike=605, expiration=expiration_str, option_type=\"C\", price=200)"
   ]
  },
  {
   "cell_type": "markdown",
   "id": "917ad375-52df-4caa-b342-d4b7e39943ac",
   "metadata": {},
   "source": [
    "### We can now corroborate that expiration lies 1 yr from now, and that the option has not expired: `option.expiration.is_expired() = False`"
   ]
  },
  {
   "cell_type": "code",
   "execution_count": 7,
   "id": "fc7e61e6-bcff-4c93-80c1-e431f7d9a473",
   "metadata": {},
   "outputs": [
    {
     "name": "stdout",
     "output_type": "stream",
     "text": [
      "Time till expiration: 1.0012275177574834 yr. Has the option expired? -> False\n"
     ]
    }
   ],
   "source": [
    "print(f\"Time till expiration: {option.expiration.T} yr. Has the option expired? -> {option.expiration.is_expired()}\")"
   ]
  },
  {
   "cell_type": "markdown",
   "id": "37cf5891-34e2-4f5d-b19b-09adc63cacf6",
   "metadata": {},
   "source": [
    "### We can check what the price of the option would be at the time of expiration, given the spot price `ST` of our underlying."
   ]
  },
  {
   "cell_type": "code",
   "execution_count": 8,
   "id": "a4e50926-3fcf-425b-9430-aa670993b29b",
   "metadata": {},
   "outputs": [
    {
     "data": {
      "text/plain": [
       "(array([600, 602, 604, 606, 608]), array([  0,   0,   0, 100, 300]))"
      ]
     },
     "execution_count": 8,
     "metadata": {},
     "output_type": "execute_result"
    }
   ],
   "source": [
    "ST = np.arange(600, 610, 2) # Spot price\n",
    "ST, option.price_at_expiration(ST)"
   ]
  },
  {
   "cell_type": "markdown",
   "id": "7a6015c5-3c69-4cf8-ac8d-7899c870765a",
   "metadata": {},
   "source": [
    "### Since expiration will always be computed dynamically, the time till expiration will change every second that passes by. To give the possibility to fix the time, there is a method `ExpirationDate.fix_time(T)`, where `T` is the time in years till expiration that should be keep static. For example,"
   ]
  },
  {
   "cell_type": "code",
   "execution_count": 9,
   "id": "49aaf2ec-0d9e-4f0e-b968-bd4bf214b284",
   "metadata": {},
   "outputs": [
    {
     "name": "stdout",
     "output_type": "stream",
     "text": [
      "The asset Option(SPY250101C00605000) has already expired.\n"
     ]
    }
   ],
   "source": [
    "option_static = assets.Option(underlying=stock, strike=605, expiration=\"250101\", option_type=\"C\")\n",
    "\n",
    "if option_static.expiration.is_expired():\n",
    "    print(f\"The asset {option_static} has already expired.\")\n",
    "else:\n",
    "    print(f\"The asset {option_static} has NOT expired.\")"
   ]
  },
  {
   "cell_type": "markdown",
   "id": "f12663a7-856a-4e09-8c97-e265a6b4bebf",
   "metadata": {},
   "source": [
    "### Note that this option has already expired, since `expiration` lies in the past. However, in order to fix the time, we could write `option_static.expiration.fix_time(T=0.5)` and this will take us 6 months before the expiration s.t. `option_static.expiration.T` is `0.5`, and the option has not yet expired. This will remain so, unless we unfix the time with `ExpirationDate.unfix_time()`"
   ]
  },
  {
   "cell_type": "code",
   "execution_count": 10,
   "id": "f04ae9c8-7092-4510-9467-df88f9166993",
   "metadata": {},
   "outputs": [
    {
     "name": "stdout",
     "output_type": "stream",
     "text": [
      "The asset Option(SPY250101C00605000) has NOT expired.\n"
     ]
    },
    {
     "data": {
      "text/plain": [
       "True"
      ]
     },
     "execution_count": 10,
     "metadata": {},
     "output_type": "execute_result"
    }
   ],
   "source": [
    "option_static.expiration.fix_time(0.5)\n",
    "\n",
    "if option_static.expiration.is_expired():\n",
    "    print(f\"The asset {option_static} has already expired.\")\n",
    "else:\n",
    "    print(f\"The asset {option_static} has NOT expired.\")\n",
    "    \n",
    "option_static.expiration.T == 0.5"
   ]
  },
  {
   "cell_type": "code",
   "execution_count": 11,
   "id": "61f1374e-3ab3-4f60-ad65-52957eceb0f3",
   "metadata": {},
   "outputs": [
    {
     "name": "stdout",
     "output_type": "stream",
     "text": [
      "The asset Option(SPY250101C00605000) has already expired.\n"
     ]
    },
    {
     "data": {
      "text/plain": [
       "'250101'"
      ]
     },
     "execution_count": 11,
     "metadata": {},
     "output_type": "execute_result"
    }
   ],
   "source": [
    "option_static.expiration.unfix_time()\n",
    "\n",
    "if option_static.expiration.is_expired():\n",
    "    print(f\"The asset {option_static} has already expired.\")\n",
    "else:\n",
    "    print(f\"The asset {option_static} has NOT expired.\")\n",
    "\n",
    "option_static.expiration.expiration_date"
   ]
  }
 ],
 "metadata": {
  "kernelspec": {
   "display_name": "Python 3 (ipykernel)",
   "language": "python",
   "name": "python3"
  },
  "language_info": {
   "codemirror_mode": {
    "name": "ipython",
    "version": 3
   },
   "file_extension": ".py",
   "mimetype": "text/x-python",
   "name": "python",
   "nbconvert_exporter": "python",
   "pygments_lexer": "ipython3",
   "version": "3.9.12"
  }
 },
 "nbformat": 4,
 "nbformat_minor": 5
}
