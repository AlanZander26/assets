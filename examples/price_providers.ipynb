{
 "cells": [
  {
   "cell_type": "markdown",
   "id": "a7d88c90-675c-4023-a0ef-2bf44bf9747e",
   "metadata": {},
   "source": [
    "# Example for Price Providers"
   ]
  },
  {
   "cell_type": "code",
   "execution_count": 1,
   "id": "8f36f26f-39f2-4b02-995f-c21f9f21d70c",
   "metadata": {},
   "outputs": [],
   "source": [
    "%load_ext autoreload\n",
    "%autoreload 2\n",
    "\n",
    "import sys\n",
    "sys.path.append('../..') \n",
    "\n",
    "import assets"
   ]
  },
  {
   "cell_type": "markdown",
   "id": "1d299e62-a0a3-406d-a5fa-c19cfe6385fe",
   "metadata": {},
   "source": [
    "### We can create `PriceProvider` objects that fetch and update the price of a particular `Asset` instance."
   ]
  },
  {
   "cell_type": "markdown",
   "id": "e8913d70-cb62-46be-8eb9-b18f9b4347a3",
   "metadata": {},
   "source": [
    "### Let us start by creating our `Asset` instances, in this case two `Stock` objects."
   ]
  },
  {
   "cell_type": "code",
   "execution_count": 2,
   "id": "eba34090-c5fb-451c-8fd5-9e04606004d4",
   "metadata": {},
   "outputs": [],
   "source": [
    "pypl = assets.Stock(\"PYPL\")\n",
    "aapl = assets.Stock(\"AAPL\")"
   ]
  },
  {
   "cell_type": "markdown",
   "id": "5e4cec7f-d202-43ea-8e68-0957478d778c",
   "metadata": {},
   "source": [
    "### Since we did not specify a price, they default to `None`"
   ]
  },
  {
   "cell_type": "code",
   "execution_count": 3,
   "id": "f2825e68-1b7e-4665-be38-9a9615bb406c",
   "metadata": {},
   "outputs": [
    {
     "name": "stdout",
     "output_type": "stream",
     "text": [
      "Stock(PYPL)'s price: None\n",
      "Stock(AAPL)'s price: None\n"
     ]
    }
   ],
   "source": [
    "print(f\"{pypl}'s price: {None if pypl.price is None else pypl.price}\")\n",
    "print(f\"{aapl}'s price: {None if aapl.price is None else aapl.price}\")"
   ]
  },
  {
   "cell_type": "markdown",
   "id": "d4ed4565-5014-46ff-be34-381799901d3b",
   "metadata": {},
   "source": [
    "### We know define our price provider from the `price_providers` submodule, in this case `YFinanceStockPriceProvider` that uses `yfinance` to fetch the current price for stocks"
   ]
  },
  {
   "cell_type": "code",
   "execution_count": 4,
   "id": "4a1670c6-7d6b-418e-87c4-733f6b979c12",
   "metadata": {},
   "outputs": [],
   "source": [
    "stock_price_provider = assets.price_providers.YFinanceStockPriceProvider()"
   ]
  },
  {
   "cell_type": "markdown",
   "id": "a44bdf8f-c0bf-4ab2-9273-35e1b1dcee41",
   "metadata": {},
   "source": [
    "### After we defined our price provider, we update the price of our example stocks. Note that we can do this at once by passing an iterable object to `PriceProvider.update_price()`"
   ]
  },
  {
   "cell_type": "code",
   "execution_count": 5,
   "id": "315123bd-f2fa-4a32-9406-4d5881126fce",
   "metadata": {},
   "outputs": [],
   "source": [
    "stock_price_provider.update_price((pypl, aapl))"
   ]
  },
  {
   "cell_type": "markdown",
   "id": "40a3caae-53c6-44a8-a7d9-a118836f0031",
   "metadata": {},
   "source": [
    "### We print again the prices, now updated"
   ]
  },
  {
   "cell_type": "code",
   "execution_count": 6,
   "id": "5cc980e6-dc02-457e-9f36-d6d35e9cd27e",
   "metadata": {},
   "outputs": [
    {
     "name": "stdout",
     "output_type": "stream",
     "text": [
      "Stock(PYPL)'s price: 69.2300033569336\n",
      "Stock(AAPL)'s price: 231.58999633789062\n"
     ]
    }
   ],
   "source": [
    "print(f\"{pypl}'s price: {None if pypl.price is None else pypl.price}\")\n",
    "print(f\"{aapl}'s price: {None if aapl.price is None else aapl.price}\")"
   ]
  },
  {
   "cell_type": "markdown",
   "id": "199abc4a-091f-41ac-8795-58309d6f83be",
   "metadata": {},
   "source": [
    "### The same can be done for currencies. For 'USD', the price (or exchange rate) must be given and be equal to 1, since all exchange rates are w.r.t the USD"
   ]
  },
  {
   "cell_type": "code",
   "execution_count": 7,
   "id": "53366b4f-4696-4d23-89c6-bf24cdbfac32",
   "metadata": {},
   "outputs": [],
   "source": [
    "usd = assets.Currency(\"USD\", 1.0)\n",
    "eur = assets.Currency(\"EUR\")"
   ]
  },
  {
   "cell_type": "markdown",
   "id": "373c1ef2-a363-4eff-be6a-0532aacfe311",
   "metadata": {},
   "source": [
    "### We define our price provider for currencies"
   ]
  },
  {
   "cell_type": "code",
   "execution_count": 8,
   "id": "df0013ed-1a00-419e-8665-c1e280ad849c",
   "metadata": {},
   "outputs": [],
   "source": [
    "currency_price_provider = assets.price_providers.YFinanceCurrencyPriceProvider()"
   ]
  },
  {
   "cell_type": "markdown",
   "id": "809848fc-23bf-48a3-8ccf-283dca32c614",
   "metadata": {},
   "source": [
    "### Update the price"
   ]
  },
  {
   "cell_type": "code",
   "execution_count": 9,
   "id": "354fb9b0-d131-4e62-9690-0b9741be58b9",
   "metadata": {},
   "outputs": [],
   "source": [
    "currency_price_provider.update_price(eur)"
   ]
  },
  {
   "cell_type": "markdown",
   "id": "2830f53e-a54a-4839-8b4f-cc30109305a5",
   "metadata": {},
   "source": [
    "### Print the updated prices"
   ]
  },
  {
   "cell_type": "code",
   "execution_count": 10,
   "id": "c693189e-8c29-4615-b1d1-56c98d1281ed",
   "metadata": {},
   "outputs": [
    {
     "data": {
      "text/plain": [
       "(1.0, 1.170823097229004)"
      ]
     },
     "execution_count": 10,
     "metadata": {},
     "output_type": "execute_result"
    }
   ],
   "source": [
    "usd.price, eur.price"
   ]
  }
 ],
 "metadata": {
  "kernelspec": {
   "display_name": "Python 3 (ipykernel)",
   "language": "python",
   "name": "python3"
  },
  "language_info": {
   "codemirror_mode": {
    "name": "ipython",
    "version": 3
   },
   "file_extension": ".py",
   "mimetype": "text/x-python",
   "name": "python",
   "nbconvert_exporter": "python",
   "pygments_lexer": "ipython3",
   "version": "3.9.12"
  }
 },
 "nbformat": 4,
 "nbformat_minor": 5
}
